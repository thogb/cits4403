{
 "cells": [
  {
   "cell_type": "markdown",
   "metadata": {},
   "source": [
    "# Cits4403 - Project\n",
    "\n",
    "The simulation in this project aims to find out how epdidemic behaves in different scnerios."
   ]
  },
  {
   "cell_type": "markdown",
   "metadata": {},
   "source": [
    "## Setup"
   ]
  },
  {
   "cell_type": "code",
   "execution_count": 1,
   "metadata": {},
   "outputs": [
    {
     "name": "stdout",
     "output_type": "stream",
     "text": [
      "Downloaded utils.py\n",
      "Downloaded Cell2D.py\n"
     ]
    }
   ],
   "source": [
    "import numpy as np\n",
    "import matplotlib.pyplot as plt\n",
    "\n",
    "from os.path import basename, exists\n",
    "\n",
    "# Download the base code provided that would be used by the simulation\n",
    "# Retrieved from workshop exercises 7\n",
    "def download(url):\n",
    "    filename = basename(url)\n",
    "    if not exists(filename):\n",
    "        from urllib.request import urlretrieve\n",
    "        local, _ = urlretrieve(url, filename)\n",
    "        print('Downloaded ' + local)\n",
    "\n",
    "download('https://github.com/AllenDowney/ThinkComplexity2/raw/master/notebooks/utils.py')\n",
    "download('https://github.com/AllenDowney/ThinkComplexity2/raw/master/notebooks/Cell2D.py')"
   ]
  },
  {
   "cell_type": "markdown",
   "metadata": {},
   "source": [
    "## Epidemic Simulation"
   ]
  },
  {
   "cell_type": "code",
   "execution_count": 3,
   "metadata": {},
   "outputs": [
    {
     "ename": "ModuleNotFoundError",
     "evalue": "No module named 'pandas'",
     "output_type": "error",
     "traceback": [
      "\u001b[0;31m---------------------------------------------------------------------------\u001b[0m",
      "\u001b[0;31mModuleNotFoundError\u001b[0m                       Traceback (most recent call last)",
      "\u001b[1;32m/Users/taohu/Documents/UWA/2023_s2/CM/project/project.ipynb Cell 5\u001b[0m line \u001b[0;36m1\n\u001b[0;32m----> <a href='vscode-notebook-cell:/Users/taohu/Documents/UWA/2023_s2/CM/project/project.ipynb#X14sZmlsZQ%3D%3D?line=0'>1</a>\u001b[0m \u001b[39mfrom\u001b[39;00m \u001b[39mCell2D\u001b[39;00m \u001b[39mimport\u001b[39;00m Cell2D, draw_array\n\u001b[1;32m      <a href='vscode-notebook-cell:/Users/taohu/Documents/UWA/2023_s2/CM/project/project.ipynb#X14sZmlsZQ%3D%3D?line=1'>2</a>\u001b[0m \u001b[39mfrom\u001b[39;00m \u001b[39menum\u001b[39;00m \u001b[39mimport\u001b[39;00m Enum\n\u001b[1;32m      <a href='vscode-notebook-cell:/Users/taohu/Documents/UWA/2023_s2/CM/project/project.ipynb#X14sZmlsZQ%3D%3D?line=3'>4</a>\u001b[0m \u001b[39m# Retrieved from workshop exercises 7\u001b[39;00m\n\u001b[1;32m      <a href='vscode-notebook-cell:/Users/taohu/Documents/UWA/2023_s2/CM/project/project.ipynb#X14sZmlsZQ%3D%3D?line=4'>5</a>\u001b[0m \u001b[39m# To genereate all locations in the grid\u001b[39;00m\n",
      "File \u001b[0;32m~/Documents/UWA/2023_s2/CM/project/Cell2D.py:20\u001b[0m\n\u001b[1;32m     17\u001b[0m \u001b[39mfrom\u001b[39;00m \u001b[39mtime\u001b[39;00m \u001b[39mimport\u001b[39;00m sleep\n\u001b[1;32m     18\u001b[0m \u001b[39mfrom\u001b[39;00m \u001b[39mIPython\u001b[39;00m\u001b[39m.\u001b[39;00m\u001b[39mdisplay\u001b[39;00m \u001b[39mimport\u001b[39;00m clear_output\n\u001b[0;32m---> 20\u001b[0m \u001b[39mfrom\u001b[39;00m \u001b[39mutils\u001b[39;00m \u001b[39mimport\u001b[39;00m underride\n\u001b[1;32m     23\u001b[0m \u001b[39mclass\u001b[39;00m \u001b[39mCell2D\u001b[39;00m:\n\u001b[1;32m     24\u001b[0m \u001b[39m    \u001b[39m\u001b[39m\"\"\"Parent class for 2-D cellular automata.\"\"\"\u001b[39;00m\n",
      "File \u001b[0;32m~/Documents/UWA/2023_s2/CM/project/utils.py:1\u001b[0m\n\u001b[0;32m----> 1\u001b[0m \u001b[39mimport\u001b[39;00m \u001b[39mpandas\u001b[39;00m \u001b[39mas\u001b[39;00m \u001b[39mpd\u001b[39;00m\n\u001b[1;32m      2\u001b[0m \u001b[39mimport\u001b[39;00m \u001b[39mnumpy\u001b[39;00m \u001b[39mas\u001b[39;00m \u001b[39mnp\u001b[39;00m\n\u001b[1;32m      3\u001b[0m \u001b[39mimport\u001b[39;00m \u001b[39mmatplotlib\u001b[39;00m\u001b[39m.\u001b[39;00m\u001b[39mpyplot\u001b[39;00m \u001b[39mas\u001b[39;00m \u001b[39mplt\u001b[39;00m\n",
      "\u001b[0;31mModuleNotFoundError\u001b[0m: No module named 'pandas'"
     ]
    }
   ],
   "source": [
    "from Cell2D import Cell2D, draw_array\n",
    "from enum import Enum\n",
    "\n",
    "# Retrieved from workshop exercises 7\n",
    "# To genereate all locations in the grid\n",
    "def make_locs(n, m):\n",
    "    \"\"\"Makes array where each row is an index in an `n` by `m` grid.\n",
    "\n",
    "    n: int number of rows\n",
    "    m: int number of cols\n",
    "\n",
    "    returns: NumPy array\n",
    "    \"\"\"\n",
    "    t = [(i, j) for i in range(n) for j in range(m)]\n",
    "    return np.array(t)\n",
    "\n",
    "# Enum to represent the status of agents\n",
    "class Status(Enum):\n",
    "    HEALTHY=1\n",
    "    INFECTED=2\n",
    "    DEAD=3\n",
    "\n",
    "# The class for each agent or people in the simulation\n",
    "class Agent():\n",
    "    # The base infection resistance of agent\n",
    "    base_infc_resist=0.3\n",
    "    def _init__(self, loc, infec_resist=0.3):\n",
    "        # The position of the agent in the grid\n",
    "        self.loc = loc\n",
    "        # The resistance of the agent to the infection\n",
    "        self.infec_resist = infec_resist\n",
    "        # Represent of the agent is in lock down\n",
    "        self.isLockDown = False\n",
    "        # Represent infection condition of agent\n",
    "        self.status = Status.HEALTHY\n",
    "        # Counts the number of times, agent has been infected\n",
    "        self.infec_count = 0\n",
    "\n",
    "    def getLoc(self):\n",
    "        return self.loc\n",
    "\n",
    "# Class represent the simulation of the epidemic in a town\n",
    "class EpidemicSim(Cell2D):\n",
    "    def __init__(self, n, pop, infec_prob=0.1, latent_period=7, fatal_rate=0.01,\n",
    "                  recovery_peroid=7, infec_resist_dec=0.01, ):\n",
    "        # The grid size representing the size of the town\n",
    "        self.n = n\n",
    "        # The population, define to be max of half of the cells.\n",
    "        self.pop = min(pop, int(n*n/2))\n",
    "        # Defines how easy it is for the infections to spread\n",
    "        self.infec_prob = infec_prob\n",
    "        # Defines how long it takes for agent to be come infectious\n",
    "        self.latent_period = latent_period\n",
    "        # Defines how long it takes for agent to recover\n",
    "        self.recovery_peroid = recovery_peroid\n",
    "        # Defines how much the infection resistance for the agent decays over \n",
    "        # time. This is from the immune system after agent recovers\n",
    "        self.infec_resist_dec = infec_resist_dec\n",
    "        # Create the agents\n",
    "        self.make_agents()\n",
    "\n",
    "    def step(self):\n",
    "        pass\n",
    "\n",
    "    def make_agents(self):\n",
    "        \"\"\"Create agents in the simulation\"\"\"\n",
    "\n",
    "        # Location of the agents is genereted randomly, the method is learnt\n",
    "        # from the workshop exercises 7\n",
    "        locs = make_locs(self.n, self.n)\n",
    "        np.random.shuffle(locs)\n",
    "\n",
    "        # Generated pop field nubmer of agents each taking the random shuffled\n",
    "        # locations created\n",
    "        self.agents = [Agent() for i in range(self.pop)]\n",
    "\n",
    "    # Retrieved from the workshop exercises 7\n",
    "    def draw(self):\n",
    "        \"\"\"Draws the cells.\"\"\"\n",
    "        draw_array(self.array, cmap='YlOrRd', vmax=9, origin='lower')\n",
    "\n",
    "        # Draw agents based on the status\n",
    "        xs_h, ys_h = self.get_coords(status=Status.HEALTHY)\n",
    "        plt.plot(xs_h, ys_h, '.', color='green')[0]\n",
    "        xs_i, ys_i = self.get_coords(status=Status.HEALTHY)\n",
    "        plt.plot(xs_i, ys_i, '.', color='orange')[0]\n",
    "\n",
    "\n",
    "    # Retrieved from the workshop exercises 7\n",
    "    # Modified to take parameter to filter the agent status\n",
    "    def get_coords(self, status=Status.HEALTHY):\n",
    "        \"\"\"Gets the coordinates of the agents.\n",
    "\n",
    "        Transforms from (row, col) to (x, y).\n",
    "\n",
    "        returns: tuple of sequences, (xs, ys)\n",
    "        \"\"\"\n",
    "        agents = self.agents\n",
    "        rows, cols = np.transpose([agent.getLoc() for agent in agents if agent.status == status])\n",
    "        xs = cols + 0.5\n",
    "        ys = rows + 0.5\n",
    "        return xs, ys\n",
    "\n",
    "    "
   ]
  },
  {
   "cell_type": "code",
   "execution_count": null,
   "metadata": {},
   "outputs": [],
   "source": []
  }
 ],
 "metadata": {
  "kernelspec": {
   "display_name": "Python 3",
   "language": "python",
   "name": "python3"
  },
  "language_info": {
   "codemirror_mode": {
    "name": "ipython",
    "version": 3
   },
   "file_extension": ".py",
   "mimetype": "text/x-python",
   "name": "python",
   "nbconvert_exporter": "python",
   "pygments_lexer": "ipython3",
   "version": "3.11.4"
  },
  "orig_nbformat": 4
 },
 "nbformat": 4,
 "nbformat_minor": 2
}
